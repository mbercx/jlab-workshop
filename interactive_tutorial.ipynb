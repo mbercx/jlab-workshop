{
 "cells": [
  {
   "cell_type": "markdown",
   "metadata": {},
   "source": [
    "# Using interactive elements\n",
    "\n",
    "One of the nice features of Jupyter notebooks is the ability to use interactive widgets to explore the influence of certain parameters or switch between datasets quickly. In this part of the workshop we will introduce some basic interactive widgets and explain how to customize them to your heart's content.\n",
    "\n",
    "## Interact\n",
    "\n",
    "An easy way to get started with using the interactive features of ipywidgets is with the  `interact` function:"
   ]
  },
  {
   "cell_type": "code",
   "execution_count": 36,
   "metadata": {},
   "outputs": [],
   "source": [
    "from ipywidgets import interact"
   ]
  },
  {
   "cell_type": "markdown",
   "metadata": {},
   "source": [
    "A basic usage of the `interact` is to pass it a function, as well as specifying the arguments of this function in the call to interact, e.g.:"
   ]
  },
  {
   "cell_type": "code",
   "execution_count": 37,
   "metadata": {},
   "outputs": [
    {
     "data": {
      "application/vnd.jupyter.widget-view+json": {
       "model_id": "724784a650a0408c853ba509dadcd43f",
       "version_major": 2,
       "version_minor": 0
      },
      "text/plain": [
       "interactive(children=(IntSlider(value=5, description='x', max=15, min=-5), Output()), _dom_classes=('widget-in…"
      ]
     },
     "metadata": {},
     "output_type": "display_data"
    }
   ],
   "source": [
    "def foo(x):\n",
    "    print(\"You passed me the following input: \" + str(x))\n",
    "    \n",
    "interact(foo, x=5);"
   ]
  },
  {
   "cell_type": "markdown",
   "metadata": {},
   "source": [
    "---\n",
    "#### Exercise 1\n",
    "\n",
    "Note that `interact` will adjust the input widget depending on what type of object you pass to the arguments of the function. Try passing the interact function in the cell above the following input for x:\n",
    "\n",
    "- A float, e.g. 5.5\n",
    "- A boolean, e.g. `True`\n",
    "- A string, e.g. `\"Hello world!\"\n",
    "- A List of items, e.g. [\"String\", 5.0, True]\n",
    "---\n",
    "\n"
   ]
  },
  {
   "cell_type": "markdown",
   "metadata": {},
   "source": [
    "### Multiple arguments\n",
    "\n",
    "Of course, it's also possible to use a function with multiple arguments. For example, "
   ]
  },
  {
   "cell_type": "code",
   "execution_count": 38,
   "metadata": {},
   "outputs": [
    {
     "data": {
      "application/vnd.jupyter.widget-view+json": {
       "model_id": "4e5035de05624a359a90230892006f9c",
       "version_major": 2,
       "version_minor": 0
      },
      "text/plain": [
       "interactive(children=(IntSlider(value=5, description='a', max=15, min=-5), FloatSlider(value=5.6, description=…"
      ]
     },
     "metadata": {},
     "output_type": "display_data"
    }
   ],
   "source": [
    "def sum_numbers(a, b):\n",
    "    return a + b\n",
    "\n",
    "interact(sum_numbers, a=5, b=5.6);"
   ]
  },
  {
   "cell_type": "markdown",
   "metadata": {},
   "source": [
    "In case you want to keep certain input arguments fixed, this can be achieved by simply using the `fixed` function, in the example below, we have fixed the `b` argument to the number 5:"
   ]
  },
  {
   "cell_type": "code",
   "execution_count": 39,
   "metadata": {},
   "outputs": [
    {
     "data": {
      "application/vnd.jupyter.widget-view+json": {
       "model_id": "849914b77481488e93973006782ee371",
       "version_major": 2,
       "version_minor": 0
      },
      "text/plain": [
       "interactive(children=(IntSlider(value=10, description='a', max=30, min=-10), Output()), _dom_classes=('widget-…"
      ]
     },
     "metadata": {},
     "output_type": "display_data"
    }
   ],
   "source": [
    "from ipywidgets import fixed\n",
    "interact(sum_numbers, a=10, b=fixed(5));"
   ]
  },
  {
   "cell_type": "markdown",
   "metadata": {},
   "source": [
    "---\n",
    "#### Exercise 2\n",
    "\n",
    "Below you can find a function that greets each member of a `List` of people individually, based on a greeting and message, either enthusiastically or not. Use the `interact` function to allow the user to adjust the greeting messages with an interface based on the following conditions:\n",
    "\n",
    "1. The names of the people that are greeted should be fixed to the names in the `people` List variable.\n",
    "2. There should be three options for the `greeting` argument: \"Hi\", \"Hello\" and \"Greetings\".\n",
    "3. It should be possible to put any string for the `message` that follows the names.\n",
    "4. The user should be able to use a checkbox to set the `is_enthusiastic` to `True` or `False`."
   ]
  },
  {
   "cell_type": "code",
   "execution_count": 40,
   "metadata": {},
   "outputs": [],
   "source": [
    "people = [\"Spock\", \"Picard\", \"Worf\"]\n",
    "\n",
    "def greet_people(names_list, greeting, message, is_enthusiastic):\n",
    "    \n",
    "    if is_enthusiastic:\n",
    "        message = \"! \" + message + \"!\"\n",
    "    else:\n",
    "        message = \". \" + message + \".\"  \n",
    "    \n",
    "    for name in names_list:\n",
    "        print(greeting + \", \" + name + message)"
   ]
  },
  {
   "cell_type": "code",
   "execution_count": 41,
   "metadata": {},
   "outputs": [
    {
     "data": {
      "application/vnd.jupyter.widget-view+json": {
       "model_id": "4cd3bf34593b4dbc9a2e92ada1285cf6",
       "version_major": 2,
       "version_minor": 0
      },
      "text/plain": [
       "interactive(children=(Dropdown(description='greeting', options=('Hi', 'Hello', 'Greetings'), value='Hi'), Text…"
      ]
     },
     "metadata": {},
     "output_type": "display_data"
    }
   ],
   "source": [
    "interact(greet_people, \n",
    "         names_list=fixed(people), \n",
    "         greeting=[\"Hi\", \"Hello\", \"Greetings\"], \n",
    "         message=\"It's good to meet you\", \n",
    "         is_enthusiastic=True);"
   ]
  },
  {
   "cell_type": "markdown",
   "metadata": {},
   "source": [
    "---"
   ]
  },
  {
   "cell_type": "markdown",
   "metadata": {},
   "source": [
    "### Widgets\n",
    "\n",
    "When we passed a value to the keyword argument of the function above, the type of widget was derived from the type of the input value. For example, when we assigned a string value to the `x` argument (e.g. `\"Hello World!\"`), we implied that `interact` should use a `Text` widget:"
   ]
  },
  {
   "cell_type": "code",
   "execution_count": 42,
   "metadata": {},
   "outputs": [
    {
     "data": {
      "application/vnd.jupyter.widget-view+json": {
       "model_id": "fe2367727df24e00acdea7e292035f17",
       "version_major": 2,
       "version_minor": 0
      },
      "text/plain": [
       "interactive(children=(Text(value='Hello World!', description='x'), Output()), _dom_classes=('widget-interact',…"
      ]
     },
     "metadata": {},
     "output_type": "display_data"
    }
   ],
   "source": [
    "from ipywidgets import Text\n",
    "\n",
    "interact(foo, x=Text(\"Hello World!\"));"
   ]
  },
  {
   "cell_type": "markdown",
   "metadata": {},
   "source": [
    "For this simple case, there is no practical difference between passing a `string` or a `Text` widget. However, by using a `Text` widget, it's possible to set up the widget in more detail, for example:"
   ]
  },
  {
   "cell_type": "code",
   "execution_count": 43,
   "metadata": {},
   "outputs": [
    {
     "data": {
      "application/vnd.jupyter.widget-view+json": {
       "model_id": "2ebb39c6b0284929a8ff993b7e1b95a9",
       "version_major": 2,
       "version_minor": 0
      },
      "text/plain": [
       "interactive(children=(Text(value='', description='Input (str):', placeholder='Type something'), Output()), _do…"
      ]
     },
     "metadata": {},
     "output_type": "display_data"
    }
   ],
   "source": [
    "text_widget = Text(\n",
    "    value=None,\n",
    "    placeholder=\"Type something\",\n",
    "    description=\"Input (str):\",\n",
    "    disabled=False\n",
    ")\n",
    "\n",
    "interact(foo, x=text_widget);"
   ]
  },
  {
   "cell_type": "markdown",
   "metadata": {},
   "source": [
    "Note the differences with the example above. There are many more widgets available on the [widget list](https://ipywidgets.readthedocs.io/en/stable/examples/Widget%20List.html) from the jupyter widgets webpage. There you can also find the various input arguments used for setting up the widget, which are also easily found by using `Shift+Tab` to see the docstring after importing the widget. "
   ]
  },
  {
   "cell_type": "markdown",
   "metadata": {},
   "source": [
    "---\n",
    "#### Exercise 3\n",
    "\n",
    "Below you can find the function `beat_freq`, which creates a little audio file of the superposition of two waves. The superposition is also plotted when the `show_plot` arguments is set to `True`. Set up an interact method with two [FloatSlider](https://ipywidgets.readthedocs.io/en/stable/examples/Widget%20List.html#FloatSlider) widgets. The range of the `FloatSlider` should be 100-200 for each widget, in steps of 0.5. Also change the description so it is clear for the user of the interactive elements, and set the initial value of the widgets to two frequencies that are close to each other, e.g. 150 and 154."
   ]
  },
  {
   "cell_type": "code",
   "execution_count": 44,
   "metadata": {},
   "outputs": [],
   "source": [
    "from IPython.display import Audio, display\n",
    "\n",
    "def beat_freq(f1, f2, show_plot=True):\n",
    "    max_time = 3\n",
    "    rate = 8000\n",
    "    times = np.linspace(0, max_time, rate * max_time)\n",
    "    signal = np.sin(2*np.pi*f1*times) + np.sin(2*np.pi*f2*times)\n",
    "    display(Audio(data=signal, rate=rate))\n",
    "    if show_plot:\n",
    "        plt.plot(times, signal)"
   ]
  },
  {
   "cell_type": "code",
   "execution_count": 46,
   "metadata": {},
   "outputs": [
    {
     "data": {
      "application/vnd.jupyter.widget-view+json": {
       "model_id": "b8372b903ffc4fafbaa6e248bc5fa328",
       "version_major": 2,
       "version_minor": 0
      },
      "text/plain": [
       "interactive(children=(FloatSlider(value=150.0, description='Frequency A:', max=200.0, min=100.0, step=0.5), Fl…"
      ]
     },
     "metadata": {},
     "output_type": "display_data"
    }
   ],
   "source": [
    "from ipywidgets import FloatSlider\n",
    "import numpy as np\n",
    "import matplotlib.pyplot as plt\n",
    "\n",
    "%matplotlib inline\n",
    "\n",
    "freqA = FloatSlider(value=150.0, min=100, max=200, step=0.5, description=\"Frequency A:\")\n",
    "freqB = FloatSlider(value=154.0, min=100, max=200, step=0.5, description=\"Frequency B:\")\n",
    "\n",
    "interact(beat_freq, f1=freqA, f2=freqB);"
   ]
  },
  {
   "cell_type": "markdown",
   "metadata": {},
   "source": [
    "---\n",
    "### Interactive\n",
    "\n",
    "Interactive returns widget\n",
    "\n",
    "Needs to be displayed"
   ]
  },
  {
   "cell_type": "code",
   "execution_count": 23,
   "metadata": {},
   "outputs": [],
   "source": [
    "from ipywidgets import interactive"
   ]
  },
  {
   "cell_type": "markdown",
   "metadata": {},
   "source": [
    "---\n",
    "### Remarks\n",
    "\n",
    "1. Note the semicolon behind each interact call, used to suppress the output of the interact function. Try figuring out the output of the interact function from the docstring (Remember, the docstring can be accessed quickly using <code style=\"background-color: #e9e9e9\"> Shift+Tab </code> when the text cursor is on the function), assign it to a variable and see if it works as you'd expect."
   ]
  },
  {
   "cell_type": "code",
   "execution_count": 9,
   "metadata": {},
   "outputs": [
    {
     "data": {
      "application/vnd.jupyter.widget-view+json": {
       "model_id": "f9f498214d784c838eb6fc5ce78cf9b7",
       "version_major": 2,
       "version_minor": 0
      },
      "text/plain": [
       "interactive(children=(IntSlider(value=4, description='a', max=12, min=-4), IntSlider(value=4, description='b',…"
      ]
     },
     "metadata": {},
     "output_type": "display_data"
    }
   ],
   "source": [
    "bar = interact(sum_numbers, a=4, b=4)"
   ]
  },
  {
   "cell_type": "code",
   "execution_count": 10,
   "metadata": {},
   "outputs": [
    {
     "data": {
      "text/plain": [
       "9"
      ]
     },
     "execution_count": 10,
     "metadata": {},
     "output_type": "execute_result"
    }
   ],
   "source": [
    "bar(4, 5)"
   ]
  },
  {
   "cell_type": "code",
   "execution_count": 11,
   "metadata": {},
   "outputs": [
    {
     "data": {
      "application/vnd.jupyter.widget-view+json": {
       "model_id": "f9f498214d784c838eb6fc5ce78cf9b7",
       "version_major": 2,
       "version_minor": 0
      },
      "text/plain": [
       "interactive(children=(IntSlider(value=4, description='a', max=12, min=-4), IntSlider(value=4, description='b',…"
      ]
     },
     "metadata": {},
     "output_type": "display_data"
    }
   ],
   "source": [
    "bar.widget"
   ]
  },
  {
   "cell_type": "markdown",
   "metadata": {},
   "source": [
    "2. Instead of first defining a function and then passing it to `interact`, you can also use `interact` as a [decorator](http://book.pythontips.com/en/latest/decorators.html)."
   ]
  },
  {
   "cell_type": "code",
   "execution_count": 12,
   "metadata": {},
   "outputs": [
    {
     "data": {
      "application/vnd.jupyter.widget-view+json": {
       "model_id": "a3624d06a0874f4d9a773a02951e9ed7",
       "version_major": 2,
       "version_minor": 0
      },
      "text/plain": [
       "interactive(children=(Text(value='', description='Input (str):', placeholder='Type something'), Output()), _do…"
      ]
     },
     "metadata": {},
     "output_type": "display_data"
    }
   ],
   "source": [
    "@interact(x=text_widget)\n",
    "def bar(x):\n",
    "    print(\"You passed me the following input: \" + str(x))"
   ]
  },
  {
   "cell_type": "code",
   "execution_count": null,
   "metadata": {},
   "outputs": [],
   "source": []
  },
  {
   "cell_type": "code",
   "execution_count": 17,
   "metadata": {},
   "outputs": [],
   "source": [
    "from ipywidgets import FloatSlider, IntSlider"
   ]
  },
  {
   "cell_type": "markdown",
   "metadata": {},
   "source": [
    "## Plotting\n",
    "\n",
    "Trajectory equation:\n",
    "\n",
    "$$\n",
    "y(x) = \\tan\\theta \\cdot x - \\frac{g\\cdot x^2}{2 v_0^2 \\cos^2\\theta}\n",
    "$$"
   ]
  },
  {
   "cell_type": "code",
   "execution_count": 14,
   "metadata": {},
   "outputs": [],
   "source": [
    "import math\n",
    "\n",
    "def plot_trajectory(angle=45, v_0=10):\n",
    "    \"\"\"\n",
    "    Plot the trajectory of a projectile shot at a specified angle with an initial velocity.\n",
    "    \n",
    "    Args:\n",
    "        angle (float): Angle between the initial velocity and the horizontal.\n",
    "        v_0 (float): Initial velocity of the projectile.\n",
    "    \n",
    "    \"\"\"\n",
    "    g = 9.81 # gravitional acceleration\n",
    "    \n",
    "    x_max = v_0 ** 2 / g + 1\n",
    "    \n",
    "    x = np.linspace(0, x_max, 200)\n",
    "    y = math.tan(angle * math.pi/180) * x - g/(2 * v_0 ** 2 * math.cos(angle * math.pi/180) ** 2) * x ** 2\n",
    "    \n",
    "    plt.plot(x, y)\n",
    "    plt.xlim([0, 20])\n",
    "    plt.ylim([0, 10])\n"
   ]
  },
  {
   "cell_type": "code",
   "execution_count": 15,
   "metadata": {},
   "outputs": [
    {
     "data": {
      "application/vnd.jupyter.widget-view+json": {
       "model_id": "53895f63327f4984b95c622e743be1eb",
       "version_major": 2,
       "version_minor": 0
      },
      "text/plain": [
       "interactive(children=(IntSlider(value=45, description='angle', max=135, min=-45), IntSlider(value=10, descript…"
      ]
     },
     "metadata": {},
     "output_type": "display_data"
    }
   ],
   "source": [
    "interact(plot_trajectory);"
   ]
  },
  {
   "cell_type": "code",
   "execution_count": 20,
   "metadata": {},
   "outputs": [
    {
     "data": {
      "application/vnd.jupyter.widget-view+json": {
       "model_id": "20991cd374634fb490043567fcca251d",
       "version_major": 2,
       "version_minor": 0
      },
      "text/plain": [
       "interactive(children=(FloatSlider(value=1.0, description='angle', max=89.0, min=1.0), IntSlider(value=10, desc…"
      ]
     },
     "metadata": {},
     "output_type": "display_data"
    },
    {
     "data": {
      "text/plain": [
       "<function __main__.plot_trajectory(angle=45, v_0=10)>"
      ]
     },
     "execution_count": 20,
     "metadata": {},
     "output_type": "execute_result"
    }
   ],
   "source": [
    "interact(plot_trajectory, angle=FloatSlider(float=45, min=1, max=89))"
   ]
  },
  {
   "cell_type": "code",
   "execution_count": 62,
   "metadata": {},
   "outputs": [
    {
     "data": {
      "application/vnd.jupyter.widget-view+json": {
       "model_id": "1f483108c3d547a591d914284cf0c526",
       "version_major": 2,
       "version_minor": 0
      },
      "text/plain": [
       "interactive(children=(FloatSlider(value=150.0, description='Frequency A:', max=200.0, min=100.0, step=0.5), Fl…"
      ]
     },
     "metadata": {},
     "output_type": "display_data"
    }
   ],
   "source": [
    "display(beat)"
   ]
  },
  {
   "cell_type": "markdown",
   "metadata": {},
   "source": [
    "---"
   ]
  },
  {
   "cell_type": "code",
   "execution_count": null,
   "metadata": {},
   "outputs": [],
   "source": []
  }
 ],
 "metadata": {
  "kernelspec": {
   "display_name": "Python 3",
   "language": "python",
   "name": "python3"
  },
  "language_info": {
   "codemirror_mode": {
    "name": "ipython",
    "version": 3
   },
   "file_extension": ".py",
   "mimetype": "text/x-python",
   "name": "python",
   "nbconvert_exporter": "python",
   "pygments_lexer": "ipython3",
   "version": "3.7.2"
  }
 },
 "nbformat": 4,
 "nbformat_minor": 2
}
