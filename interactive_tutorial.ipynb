{
 "cells": [
  {
   "cell_type": "markdown",
   "metadata": {},
   "source": [
    "# Using interactive elements\n",
    "\n",
    "One of the nice features of Jupyter notebooks is the ability to use interactive widgets to explore the influence of certain parameters or switch between datasets quickly. In this part of the workshop we will introduce some basic interactive widgets and explain how to customize them to your heart's content.\n",
    "\n",
    "### JupyterLab Extensions\n",
    "\n",
    "JupyterLab is highly extensible with all sorts of nifty functionality. The [JupyterLab docs](https://jupyterlab.readthedocs.io/en/stable/user/extensions.html) describe it best:\n",
    "\n",
    "<blockquote>\n",
    "    Fundamentally, JupyterLab is designed as an extensible environment. JupyterLab extensions can customize or enhance any part of JupyterLab. They can provide new themes, file viewers and editors, or renderers for rich outputs in notebooks. Extensions can add items to the menu or command palette, keyboard shortcuts, or settings in the settings system. Extensions can provide an API for other extensions to use and can depend on other extensions. In fact, the whole of JupyterLab itself is simply a collection of extensions that are no more powerful or privileged than any custom extension.\n",
    "</blockquote>\n",
    "\n",
    "To use the interactive widgets of this tutorial, we have to install the `@jupyter-widgets/jupyterlab-manager` extension. One way of doing this is using the extension manager, which can be found on the left sidebar:\n",
    "\n",
    "<img src=\"imgs/extension_manager.png\">\n",
    "\n",
    "In case the extension manager is not in the sidebar, it's possible you still have to enable it. This can be done by going to `Settings` -> `Advanced Settings Editor` and then going to the Extention Manager settings. In order to enable the extension manager, you have to put the User Overrides on the right to `{\"enabled\":true}`.\n",
    "\n",
    "Once you have the extension manager tab open, just search for the `@jupyter-widgets/jupyterlab-manager` extension and install it using the `install` button. In case you're more command line oriented - or can't get the extension manager enabled - you can manage your extensions in a terminal window using the `jupyter labextension` command. To see an overview of the possible subcommands, just open the help file using the following command:\n",
    "\n",
    "```\n",
    "jupyter labextension -h\n",
    "```\n",
    "\n",
    "To install the `@jupyter-widgets/jupyterlab-manager` extension, use the `install` subcommand:\n",
    "\n",
    "```\n",
    "jupyter labextension install @jupyter-widgets/jupyterlab-manager \n",
    "```\n",
    "\n",
    "Note that in order to activate the extensions properly after installing them, you have to reload the JupyterLab page. Other interesting extensions are the `jupyterlab-drawio` extension for drawing quick diagrams and `@jupyterlab/latex` extension for working with $\\LaTeX$ inside JupyterLab.\n",
    "\n",
    "## Interact\n",
    "\n",
    "An easy way to get started with using the interactive features of `ipywidgets` is with the  `interact` function. Let's start by loading it from the `ipywidgets` module:"
   ]
  },
  {
   "cell_type": "code",
   "execution_count": 13,
   "metadata": {},
   "outputs": [],
   "source": [
    "from ipywidgets import interact"
   ]
  },
  {
   "cell_type": "markdown",
   "metadata": {},
   "source": [
    "A basic usage of the `interact` is to pass it a function, as well as specifying the arguments of this function in the call to interact, e.g.:"
   ]
  },
  {
   "cell_type": "code",
   "execution_count": 29,
   "metadata": {},
   "outputs": [
    {
     "data": {
      "application/vnd.jupyter.widget-view+json": {
       "model_id": "df827d00d1b044eea2a075c0c915e3a6",
       "version_major": 2,
       "version_minor": 0
      },
      "text/plain": [
       "interactive(children=(IntSlider(value=5, description='x', max=15, min=-5), Output()), _dom_classes=('widget-in…"
      ]
     },
     "metadata": {},
     "output_type": "display_data"
    }
   ],
   "source": [
    "def foo(x):\n",
    "    print(\"You passed me the following input: \" + str(x))\n",
    "    \n",
    "interact(foo, x=5);"
   ]
  },
  {
   "cell_type": "markdown",
   "metadata": {},
   "source": [
    "---\n",
    "#### Exercise 1\n",
    "\n",
    "Note that `interact` will adjust the input widget depending on what type of object you pass to the arguments of the function. Try passing the interact function in the cell above the following input for x:\n",
    "\n",
    "- A float, e.g. 5.5\n",
    "- A boolean, e.g. `True`\n",
    "- A string, e.g. `\"Hello world!\"\n",
    "- A List of items, e.g. [\"String\", 5.0, True]\n",
    "---\n",
    "\n"
   ]
  },
  {
   "cell_type": "markdown",
   "metadata": {},
   "source": [
    "### Multiple arguments\n",
    "\n",
    "Of course, it's also possible to use a function with multiple arguments. For example:"
   ]
  },
  {
   "cell_type": "code",
   "execution_count": 17,
   "metadata": {},
   "outputs": [
    {
     "data": {
      "application/vnd.jupyter.widget-view+json": {
       "model_id": "96a69e69988647daa8022c216aaea6ef",
       "version_major": 2,
       "version_minor": 0
      },
      "text/plain": [
       "interactive(children=(IntSlider(value=5, description='a', max=15, min=-5), FloatSlider(value=5.6, description=…"
      ]
     },
     "metadata": {},
     "output_type": "display_data"
    }
   ],
   "source": [
    "def sum_numbers(a, b):\n",
    "    return a + b\n",
    "\n",
    "interact(sum_numbers, a=5, b=5.6);"
   ]
  },
  {
   "cell_type": "markdown",
   "metadata": {},
   "source": [
    "In case you want to keep certain input arguments fixed, this can be achieved by simply using the `fixed` function, in the example below, we have fixed the `b` argument to the number 5:"
   ]
  },
  {
   "cell_type": "code",
   "execution_count": 18,
   "metadata": {},
   "outputs": [
    {
     "data": {
      "application/vnd.jupyter.widget-view+json": {
       "model_id": "0c16673bb06d47fb88af5c15d5367602",
       "version_major": 2,
       "version_minor": 0
      },
      "text/plain": [
       "interactive(children=(IntSlider(value=10, description='a', max=30, min=-10), Output()), _dom_classes=('widget-…"
      ]
     },
     "metadata": {},
     "output_type": "display_data"
    }
   ],
   "source": [
    "from ipywidgets import fixed\n",
    "interact(sum_numbers, a=10, b=fixed(5));"
   ]
  },
  {
   "cell_type": "markdown",
   "metadata": {},
   "source": [
    "---\n",
    "#### Exercise 2\n",
    "\n",
    "Below you can find a function that greets each member of a `List` of people individually, based on a greeting and message, either enthusiastically or not. Use the `interact` function to allow the user to adjust the greeting messages with an interface based on the following conditions:\n",
    "\n",
    "1. The names of the people that are greeted should be fixed to the names in the `people` List variable.\n",
    "2. There should be three options for the `greeting` argument: \"Hi\", \"Hello\" and \"Greetings\".\n",
    "3. It should be possible to put any string for the `message` that follows the names.\n",
    "4. The user should be able to use a checkbox to set the `is_enthusiastic` to `True` or `False`."
   ]
  },
  {
   "cell_type": "code",
   "execution_count": 19,
   "metadata": {},
   "outputs": [],
   "source": [
    "people = [\"Spock\", \"Picard\", \"Worf\"]\n",
    "\n",
    "def greet_people(names_list, greeting, message, is_enthusiastic):\n",
    "    \n",
    "    if is_enthusiastic:\n",
    "        message = \"! \" + message + \"!\"\n",
    "    else:\n",
    "        message = \". \" + message + \".\"  \n",
    "    \n",
    "    for name in names_list:\n",
    "        print(greeting + \", \" + name + message)"
   ]
  },
  {
   "cell_type": "code",
   "execution_count": 20,
   "metadata": {},
   "outputs": [
    {
     "data": {
      "application/vnd.jupyter.widget-view+json": {
       "model_id": "4f74f1bbacd74d5294f9649e97fb8544",
       "version_major": 2,
       "version_minor": 0
      },
      "text/plain": [
       "interactive(children=(Dropdown(description='greeting', options=('Hi', 'Hello', 'Greetings'), value='Hi'), Text…"
      ]
     },
     "metadata": {},
     "output_type": "display_data"
    }
   ],
   "source": [
    "interact(greet_people, \n",
    "         names_list=fixed(people), \n",
    "         greeting=[\"Hi\", \"Hello\", \"Greetings\"], \n",
    "         message=\"It's good to meet you\", \n",
    "         is_enthusiastic=True);"
   ]
  },
  {
   "cell_type": "markdown",
   "metadata": {},
   "source": [
    "---"
   ]
  },
  {
   "cell_type": "markdown",
   "metadata": {},
   "source": [
    "### Widgets\n",
    "\n",
    "When we passed a value to the keyword argument of the function above, the type of widget was derived from the type of the input value. For example, when we assigned a string value to the `x` argument (e.g. `\"Hello World!\"`), we implied that `interact` should use a `Text` widget:"
   ]
  },
  {
   "cell_type": "code",
   "execution_count": 21,
   "metadata": {},
   "outputs": [
    {
     "data": {
      "application/vnd.jupyter.widget-view+json": {
       "model_id": "38fbc49e29cf4a81a726a4da08a88315",
       "version_major": 2,
       "version_minor": 0
      },
      "text/plain": [
       "interactive(children=(Text(value='Hello World!', description='x'), Output()), _dom_classes=('widget-interact',…"
      ]
     },
     "metadata": {},
     "output_type": "display_data"
    }
   ],
   "source": [
    "from ipywidgets import Text\n",
    "\n",
    "interact(foo, x=Text(\"Hello World!\"));"
   ]
  },
  {
   "cell_type": "markdown",
   "metadata": {},
   "source": [
    "For this simple case, there is no practical difference between passing a `string` or a `Text` widget. However, by using a `Text` widget, it's possible to set up the widget in more detail, for example:"
   ]
  },
  {
   "cell_type": "code",
   "execution_count": 22,
   "metadata": {},
   "outputs": [
    {
     "data": {
      "application/vnd.jupyter.widget-view+json": {
       "model_id": "9b2058656ab9452ba2d33012fee0843e",
       "version_major": 2,
       "version_minor": 0
      },
      "text/plain": [
       "interactive(children=(Text(value='', description='Input (str):', placeholder='Type something'), Output()), _do…"
      ]
     },
     "metadata": {},
     "output_type": "display_data"
    }
   ],
   "source": [
    "text_widget = Text(\n",
    "    value=None,\n",
    "    placeholder=\"Type something\",\n",
    "    description=\"Input (str):\",\n",
    "    disabled=False\n",
    ")\n",
    "\n",
    "interact(foo, x=text_widget);"
   ]
  },
  {
   "cell_type": "markdown",
   "metadata": {},
   "source": [
    "Note the differences with the example above. There are many more widgets available on the [widget list](https://ipywidgets.readthedocs.io/en/stable/examples/Widget%20List.html) from the jupyter widgets webpage. There you can also find the various input arguments used for setting up the widget, which are also easily found by using `Shift+Tab` to see the docstring after importing the widget. \n",
    "\n",
    "#### Linking Widgets\n",
    "\n",
    "Sometimes you might want to have two different types of widgets for determining the same underlying value. This can be achieved by for example using the `link` function:"
   ]
  },
  {
   "cell_type": "code",
   "execution_count": 23,
   "metadata": {},
   "outputs": [
    {
     "data": {
      "application/vnd.jupyter.widget-view+json": {
       "model_id": "aea48a3192204258b44c1e019cc6a7da",
       "version_major": 2,
       "version_minor": 0
      },
      "text/plain": [
       "IntText(value=0)"
      ]
     },
     "metadata": {},
     "output_type": "display_data"
    },
    {
     "data": {
      "application/vnd.jupyter.widget-view+json": {
       "model_id": "569bf801523e418e8c9547497df401f9",
       "version_major": 2,
       "version_minor": 0
      },
      "text/plain": [
       "IntSlider(value=0)"
      ]
     },
     "metadata": {},
     "output_type": "display_data"
    }
   ],
   "source": [
    "from ipywidgets import IntSlider, IntText, link\n",
    "\n",
    "a = IntText()\n",
    "b = IntSlider()\n",
    "l = link((a, 'value'), (b, 'value'));\n",
    "display(a,b)"
   ]
  },
  {
   "cell_type": "markdown",
   "metadata": {},
   "source": [
    "Note that this link can also be broken by calling the `unlink` method of the link. Try changing the value of the `IntSlider` above after executing the following cell:"
   ]
  },
  {
   "cell_type": "code",
   "execution_count": 24,
   "metadata": {},
   "outputs": [],
   "source": [
    "l.unlink()"
   ]
  },
  {
   "cell_type": "markdown",
   "metadata": {},
   "source": [
    "---\n",
    "#### Exercise 3\n",
    "\n",
    "Below you can find the function `beat_freq`, which creates a little audio file of the superposition of two waves. The superposition is also plotted when the `show_plot` argument is set to `True`. \n",
    "\n",
    "1. Set up an interact method with two [FloatSlider](https://ipywidgets.readthedocs.io/en/stable/examples/Widget%20List.html#FloatSlider) widgets. The range of the `FloatSlider` should be 100-200 for each widget, in steps of 0.1. Also change the description so it is clear for the user of the interactive elements, and set the initial value of the widgets to two frequencies that are close to each other, e.g. 150 and 154.\n",
    "2. Add two more [FloatText](https://ipywidgets.readthedocs.io/en/stable/examples/Widget%20List.html#FloatText) widgets for each of the frequencies and link them to the corresponding `FloatSlider`. Then use the `display` function to show the `FloatText` widgets."
   ]
  },
  {
   "cell_type": "code",
   "execution_count": 25,
   "metadata": {},
   "outputs": [],
   "source": [
    "from IPython.display import Audio, display\n",
    "\n",
    "def beat_freq(f1, f2, show_plot=True):\n",
    "    max_time = 3\n",
    "    rate = 8000\n",
    "    times = np.linspace(0, max_time, rate * max_time)\n",
    "    signal = np.sin(2*np.pi*f1*times) + np.sin(2*np.pi*f2*times)\n",
    "    display(Audio(data=signal, rate=rate))\n",
    "    if show_plot:\n",
    "        plt.plot(times, signal)"
   ]
  },
  {
   "cell_type": "code",
   "execution_count": 26,
   "metadata": {},
   "outputs": [
    {
     "data": {
      "application/vnd.jupyter.widget-view+json": {
       "model_id": "e849bb800c7b4048b2927c1f8ce3aaa0",
       "version_major": 2,
       "version_minor": 0
      },
      "text/plain": [
       "interactive(children=(FloatSlider(value=150.0, description='Frequency A:', max=200.0, min=100.0), FloatSlider(…"
      ]
     },
     "metadata": {},
     "output_type": "display_data"
    }
   ],
   "source": [
    "from ipywidgets import FloatSlider\n",
    "import numpy as np\n",
    "import matplotlib.pyplot as plt\n",
    "\n",
    "%matplotlib inline\n",
    "\n",
    "freqA = FloatSlider(value=150.0, min=100, max=200, step=0.1, description=\"Frequency A:\")\n",
    "freqB = FloatSlider(value=154.0, min=100, max=200, step=0.1, description=\"Frequency B:\")\n",
    "\n",
    "interact(beat_freq, f1=freqA, f2=freqB);"
   ]
  },
  {
   "cell_type": "code",
   "execution_count": 27,
   "metadata": {},
   "outputs": [
    {
     "data": {
      "application/vnd.jupyter.widget-view+json": {
       "model_id": "d506856c945a4ac2ae30a3fa3ad42c17",
       "version_major": 2,
       "version_minor": 0
      },
      "text/plain": [
       "FloatText(value=150.0)"
      ]
     },
     "metadata": {},
     "output_type": "display_data"
    },
    {
     "data": {
      "application/vnd.jupyter.widget-view+json": {
       "model_id": "281672801fd84fdf997ff93a07ef706d",
       "version_major": 2,
       "version_minor": 0
      },
      "text/plain": [
       "FloatText(value=154.0)"
      ]
     },
     "metadata": {},
     "output_type": "display_data"
    }
   ],
   "source": [
    "from ipywidgets import FloatText\n",
    "\n",
    "freqA_text = FloatText(value=150.0, min=100, max=200)\n",
    "freqB_text = FloatText(value=154.0, min=100, max=200)\n",
    "l_A = link((freqA, 'value'), (freqA_text, 'value'))\n",
    "l_B = link((freqB, 'value'), (freqB_text, 'value'))\n",
    "display(freqA_text, freqB_text)"
   ]
  },
  {
   "cell_type": "markdown",
   "metadata": {},
   "source": [
    "---\n",
    "### Interactive\n",
    "\n",
    "Another way of generating interactive widgets is using the `interactive` function. Unlike `interact`, `interactive` returns the widgets, which can then be displayed using the `IPython.display.display` function. This can be useful if you want to reuse certain widgets, or access the widgets or their data in a different context."
   ]
  },
  {
   "cell_type": "code",
   "execution_count": 28,
   "metadata": {},
   "outputs": [],
   "source": [
    "from ipywidgets import interactive\n",
    "from IPython.display import display\n",
    "\n",
    "foo_widget = interactive(foo, x=5)"
   ]
  },
  {
   "cell_type": "markdown",
   "metadata": {},
   "source": [
    "Here, `foo_widget` is a container for the widgets defined by the interactive call. In order to see the widgets contained, you can use the `children` property: "
   ]
  },
  {
   "cell_type": "code",
   "execution_count": 58,
   "metadata": {},
   "outputs": [
    {
     "name": "stdout",
     "output_type": "stream",
     "text": [
      "2\n"
     ]
    },
    {
     "data": {
      "text/plain": [
       "(IntSlider(value=5, description='x', max=15, min=-5), Output())"
      ]
     },
     "execution_count": 58,
     "metadata": {},
     "output_type": "execute_result"
    }
   ],
   "source": [
    "print(len(foo_widget.children))\n",
    "foo_widget.children"
   ]
  },
  {
   "cell_type": "markdown",
   "metadata": {},
   "source": [
    "The foo_widget contains two items: the widget used for adjusting the input of the `foo` function and the output of the function call. Let's display the `IntSlider`:"
   ]
  },
  {
   "cell_type": "code",
   "execution_count": 59,
   "metadata": {},
   "outputs": [
    {
     "data": {
      "application/vnd.jupyter.widget-view+json": {
       "model_id": "c4a5de06ba4b46b48d57be66f51070f4",
       "version_major": 2,
       "version_minor": 0
      },
      "text/plain": [
       "IntSlider(value=5, description='x', max=15, min=-5)"
      ]
     },
     "metadata": {},
     "output_type": "display_data"
    }
   ],
   "source": [
    "display(foo_widget.children[0])"
   ]
  },
  {
   "cell_type": "markdown",
   "metadata": {},
   "source": [
    "Drag the slider to a value of your choosing to change the input of the `foo` function and then check the `children` of the `foo_widget` by executing the next cell:"
   ]
  },
  {
   "cell_type": "code",
   "execution_count": 60,
   "metadata": {},
   "outputs": [
    {
     "data": {
      "text/plain": [
       "(IntSlider(value=5, description='x', max=15, min=-5), Output())"
      ]
     },
     "execution_count": 60,
     "metadata": {},
     "output_type": "execute_result"
    }
   ],
   "source": [
    "foo_widget.children"
   ]
  },
  {
   "cell_type": "markdown",
   "metadata": {},
   "source": [
    "The second element of the `children` tuple now contains the output corresponding to the input provided using the `IntSlider` widget. You can also show the output by simply taking the `Output` out of the tuple:"
   ]
  },
  {
   "cell_type": "code",
   "execution_count": 61,
   "metadata": {},
   "outputs": [
    {
     "data": {
      "application/vnd.jupyter.widget-view+json": {
       "model_id": "2b7811b03c9543dea02077137f2fa2bb",
       "version_major": 2,
       "version_minor": 0
      },
      "text/plain": [
       "Output()"
      ]
     },
     "metadata": {},
     "output_type": "display_data"
    }
   ],
   "source": [
    "foo_widget.children[1]"
   ]
  },
  {
   "cell_type": "markdown",
   "metadata": {},
   "source": [
    "Or using the `display` function:"
   ]
  },
  {
   "cell_type": "code",
   "execution_count": 62,
   "metadata": {},
   "outputs": [
    {
     "data": {
      "application/vnd.jupyter.widget-view+json": {
       "model_id": "2b7811b03c9543dea02077137f2fa2bb",
       "version_major": 2,
       "version_minor": 0
      },
      "text/plain": [
       "Output()"
      ]
     },
     "metadata": {},
     "output_type": "display_data"
    }
   ],
   "source": [
    "display(foo_widget.children[1])"
   ]
  },
  {
   "cell_type": "markdown",
   "metadata": {},
   "source": [
    "At any time, you can reproduce the output corresponding using to the `interact` function by passing the widget container to the `display` function:"
   ]
  },
  {
   "cell_type": "code",
   "execution_count": 63,
   "metadata": {},
   "outputs": [
    {
     "data": {
      "application/vnd.jupyter.widget-view+json": {
       "model_id": "bf07800d82e944c1905e6032b332fea1",
       "version_major": 2,
       "version_minor": 0
      },
      "text/plain": [
       "interactive(children=(IntSlider(value=5, description='x', max=15, min=-5), Output()), _dom_classes=('widget-in…"
      ]
     },
     "metadata": {},
     "output_type": "display_data"
    }
   ],
   "source": [
    "display(foo_widget)"
   ]
  },
  {
   "cell_type": "markdown",
   "metadata": {},
   "source": [
    "Notice how using the `IntSlider` widget to change the value of the input changes the input value of the other displayed slider, as well as all the displayed output. This is because each displayed widget is [a representation of the same object](https://ipywidgets.readthedocs.io/en/stable/examples/Widget%20Basics.html#Why-does-displaying-the-same-widget-twice-work?). Finally, you can also obtain the value of the input from the `kwargs` property of the `foo_widget`, which outputs a dictionary with all of the keyword arguments and their corresponding values:"
   ]
  },
  {
   "cell_type": "code",
   "execution_count": 64,
   "metadata": {},
   "outputs": [
    {
     "data": {
      "text/plain": [
       "{'x': 5}"
      ]
     },
     "execution_count": 64,
     "metadata": {},
     "output_type": "execute_result"
    }
   ],
   "source": [
    "foo_widget.kwargs"
   ]
  },
  {
   "cell_type": "markdown",
   "metadata": {},
   "source": [
    "### Widget Arrangement\n",
    "\n",
    "For now, we haven't had a lot of control of how to place the various widgets in the notebook, which can lead to messy interfaces. One way of controlling the arrangement of the widgets is by using the `HBox` and `VBox` containers:"
   ]
  },
  {
   "cell_type": "code",
   "execution_count": 65,
   "metadata": {},
   "outputs": [],
   "source": [
    "float_A = FloatSlider(value=-5, min=-5, max=5, orientation=\"vertical\")\n",
    "float_B = FloatSlider(value=0, min=-10, max=10, orientation=\"vertical\")\n",
    "\n",
    "def plot_line(a, b):\n",
    "    x = np.linspace(-10.0, 10.0, 200)\n",
    "    plt.plot(x, a*x + b)\n",
    "    plt.ylim([float_A.min*10.0+float_B.min, float_A.max*10.0+float_B.max])\n",
    "    \n",
    "line_widget = interactive(plot_line, a=float_A, b=float_B)"
   ]
  },
  {
   "cell_type": "markdown",
   "metadata": {},
   "source": [
    "The `line_widget` now contains both `FloatSlider` widgets, as well as the output of the `plot_line` function. By default, `interactive` arranges the widgets vertically:"
   ]
  },
  {
   "cell_type": "code",
   "execution_count": 66,
   "metadata": {},
   "outputs": [
    {
     "data": {
      "application/vnd.jupyter.widget-view+json": {
       "model_id": "ec83bb46d0fc43e18498884936da8d19",
       "version_major": 2,
       "version_minor": 0
      },
      "text/plain": [
       "interactive(children=(FloatSlider(value=-5.0, description='a', max=5.0, min=-5.0, orientation='vertical'), Flo…"
      ]
     },
     "metadata": {},
     "output_type": "display_data"
    }
   ],
   "source": [
    "display(line_widget)"
   ]
  },
  {
   "cell_type": "markdown",
   "metadata": {},
   "source": [
    "This isn't a very tidy interface at all! However, we can also arrange the widgets of `line_widget` horizontally using an `HBox` container:"
   ]
  },
  {
   "cell_type": "code",
   "execution_count": 67,
   "metadata": {},
   "outputs": [
    {
     "data": {
      "application/vnd.jupyter.widget-view+json": {
       "model_id": "671a30cc384e48cf9ac7c76d91cbab44",
       "version_major": 2,
       "version_minor": 0
      },
      "text/plain": [
       "HBox(children=(FloatSlider(value=-5.0, description='a', max=5.0, min=-5.0, orientation='vertical'), FloatSlide…"
      ]
     },
     "metadata": {},
     "output_type": "display_data"
    }
   ],
   "source": [
    "from ipywidgets import HBox, VBox\n",
    "\n",
    "HBox(line_widget.children)"
   ]
  },
  {
   "cell_type": "markdown",
   "metadata": {},
   "source": [
    "Or, we can use a combination of `HBox` and `VBox` containers to change the arrangement further:"
   ]
  },
  {
   "cell_type": "code",
   "execution_count": 68,
   "metadata": {},
   "outputs": [
    {
     "data": {
      "application/vnd.jupyter.widget-view+json": {
       "model_id": "5fc8f9610ca248a68c58c9c33e9fbd72",
       "version_major": 2,
       "version_minor": 0
      },
      "text/plain": [
       "VBox(children=(HBox(children=(FloatSlider(value=0.0, description='b', max=10.0, min=-10.0, orientation='vertic…"
      ]
     },
     "metadata": {},
     "output_type": "display_data"
    }
   ],
   "source": [
    "VBox([HBox([line_widget.children[1], line_widget.children[0]]), line_widget.children[2]])"
   ]
  },
  {
   "cell_type": "markdown",
   "metadata": {},
   "source": [
    "---\n",
    "#### Exercise 4\n",
    "\n",
    "The arrangement of the interactive interface of the `beat_freq` function was sort of messy. Creat a new Code cell and use the `interactive` function in combination with the `HBox` and `VBox` containers to improve it."
   ]
  },
  {
   "cell_type": "markdown",
   "metadata": {},
   "source": [
    "---\n",
    "### Some final remarks\n",
    "\n",
    "1. Note the semicolon behind each interact call, used to suppress the output of the interact function. Try figuring out the output of the interact function from the docstring (Remember, the docstring can be accessed quickly using <code style=\"background-color: #e9e9e9\"> Shift+Tab </code> when the text cursor is on the function), assign it to a variable and see if it works as you'd expect."
   ]
  },
  {
   "cell_type": "markdown",
   "metadata": {},
   "source": [
    "2. Instead of first defining a function and then passing it to `interact`, you can also use `interact` as a [decorator](http://book.pythontips.com/en/latest/decorators.html) in order to hit two birds with one stone:"
   ]
  },
  {
   "cell_type": "code",
   "execution_count": 69,
   "metadata": {},
   "outputs": [
    {
     "data": {
      "application/vnd.jupyter.widget-view+json": {
       "model_id": "d8783d07d37c4a1b9cb6ea53adb1181b",
       "version_major": 2,
       "version_minor": 0
      },
      "text/plain": [
       "interactive(children=(Text(value='', description='Input (str):', placeholder='Type something'), Output()), _do…"
      ]
     },
     "metadata": {},
     "output_type": "display_data"
    }
   ],
   "source": [
    "@interact(x=text_widget)\n",
    "def bar(x):\n",
    "    print(\"You passed me the following input: \" + str(x))"
   ]
  },
  {
   "cell_type": "markdown",
   "metadata": {},
   "source": [
    "## Extra Exercises"
   ]
  },
  {
   "cell_type": "markdown",
   "metadata": {},
   "source": [
    "---\n",
    "#### Exercise 5\n",
    "\n",
    "You're a teacher that has to explain the motion of a projectile to your undergrad students. Because you're an expert in 2D kinematics, you've derived the equation for the 2D trajectory of an object launched at an angle $\\theta$ with the horizontal axis at a velocity $v_0$:\n",
    "\n",
    "$$\n",
    "y(x) = \\tan\\theta \\cdot x - \\frac{g\\cdot x^2}{2 v_0^2 \\cos^2\\theta}\n",
    "$$\n",
    "\n",
    "1. Write a function that plots the trajectory of the projectile for a specified launch angle and speed."
   ]
  },
  {
   "cell_type": "code",
   "execution_count": 70,
   "metadata": {},
   "outputs": [],
   "source": [
    "import math\n",
    "\n",
    "def plot_trajectory(angle=45, v_0=10):\n",
    "    \"\"\"\n",
    "    Plot the trajectory of a projectile shot at a specified angle with an initial velocity.\n",
    "    \n",
    "    Args:\n",
    "        angle (float): Angle between the initial velocity and the horizontal.\n",
    "        v_0 (float): Initial velocity of the projectile.\n",
    "    \n",
    "    \"\"\"\n",
    "    g = 9.81 # gravitional acceleration\n",
    "    \n",
    "    x_max = v_0 ** 2 / g + 1\n",
    "    \n",
    "    x = np.linspace(0, x_max, 200)\n",
    "    y = math.tan(angle * math.pi/180) * x - g/(2 * v_0 ** 2 * math.cos(angle * math.pi/180) ** 2) * x ** 2\n",
    "    \n",
    "    plt.plot(x, y)\n",
    "    plt.xlim([0, 20])\n",
    "    plt.ylim([0, 10])\n"
   ]
  },
  {
   "cell_type": "markdown",
   "metadata": {},
   "source": [
    "2. Design a user-friendly interface for exploring the trajectory motion of the object."
   ]
  },
  {
   "cell_type": "code",
   "execution_count": 71,
   "metadata": {},
   "outputs": [
    {
     "data": {
      "application/vnd.jupyter.widget-view+json": {
       "model_id": "8a00e97b9cd74b49b9b79d57aa550d25",
       "version_major": 2,
       "version_minor": 0
      },
      "text/plain": [
       "interactive(children=(FloatSlider(value=45.0, description='angle', max=89.0, min=1.0), IntSlider(value=10, des…"
      ]
     },
     "metadata": {},
     "output_type": "display_data"
    }
   ],
   "source": [
    "interact(plot_trajectory, angle=FloatSlider(value=45, min=1, max=89));"
   ]
  },
  {
   "cell_type": "markdown",
   "metadata": {},
   "source": [
    "#### Exercise 6\n",
    "\n",
    "A final exercise can be found in the `extra/elephant.ipynb` file. "
   ]
  },
  {
   "cell_type": "code",
   "execution_count": null,
   "metadata": {},
   "outputs": [],
   "source": []
  }
 ],
 "metadata": {
  "kernelspec": {
   "display_name": "Python 3",
   "language": "python",
   "name": "python3"
  },
  "language_info": {
   "codemirror_mode": {
    "name": "ipython",
    "version": 3
   },
   "file_extension": ".py",
   "mimetype": "text/x-python",
   "name": "python",
   "nbconvert_exporter": "python",
   "pygments_lexer": "ipython3",
   "version": "3.7.2"
  }
 },
 "nbformat": 4,
 "nbformat_minor": 2
}
