{
 "cells": [
  {
   "cell_type": "markdown",
   "metadata": {},
   "source": [
    "Introduction to Markdown\n",
    "===\n",
    "Markdown is a popular simple-to-use annotation system, which can be used in Jupyter to create structured comments and discussion sections inside the notebooks. To indicate that a cell contains Markdown content instead of code, you need to change it's type using `M` short key in command mode or the flap-out menu below the notebook tab:  \n",
    "![Image](imgs/menu.svg)\n",
    "\n",
    "Now, running the cell (`Ctrl` + `Enter`) will render its content.\n",
    "\n",
    "The functionality of Markdown includes (try reproducing it in the provided empty cells):"
   ]
  },
  {
   "cell_type": "markdown",
   "metadata": {},
   "source": [
    "### Headers of several layers:\n",
    "![Image](imgs/headers.svg)"
   ]
  },
  {
   "cell_type": "markdown",
   "metadata": {},
   "source": []
  },
  {
   "cell_type": "markdown",
   "metadata": {},
   "source": [
    "### Quotes, italics, bold and monospace fonts:\n",
    "![Image](imgs/font-accents.svg)"
   ]
  },
  {
   "cell_type": "markdown",
   "metadata": {},
   "source": []
  },
  {
   "cell_type": "markdown",
   "metadata": {},
   "source": [
    "### Mathematical expressions with LaTeX syntax:\n",
    "![Image](imgs/latex.svg)"
   ]
  },
  {
   "cell_type": "markdown",
   "metadata": {},
   "source": []
  },
  {
   "cell_type": "markdown",
   "metadata": {},
   "source": [
    "### Lists:\n",
    "![Image](imgs/lists.svg)"
   ]
  },
  {
   "cell_type": "markdown",
   "metadata": {},
   "source": []
  },
  {
   "cell_type": "markdown",
   "metadata": {},
   "source": [
    "### Paragraph separation and horizontal line:\n",
    "![Image](imgs/paragraphs.svg)"
   ]
  },
  {
   "cell_type": "markdown",
   "metadata": {},
   "source": []
  },
  {
   "cell_type": "markdown",
   "metadata": {},
   "source": [
    "### Links and pictures:\n",
    "![Image](imgs/links.svg)"
   ]
  },
  {
   "cell_type": "markdown",
   "metadata": {},
   "source": []
  }
 ],
 "metadata": {
  "kernelspec": {
   "display_name": "Python 3",
   "language": "python",
   "name": "python3"
  },
  "language_info": {
   "codemirror_mode": {
    "name": "ipython",
    "version": 3
   },
   "file_extension": ".py",
   "mimetype": "text/x-python",
   "name": "python",
   "nbconvert_exporter": "python",
   "pygments_lexer": "ipython3",
   "version": "3.7.2"
  }
 },
 "nbformat": 4,
 "nbformat_minor": 2
}
