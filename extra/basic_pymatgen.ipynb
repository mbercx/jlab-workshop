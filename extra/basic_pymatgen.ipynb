{
 "cells": [
  {
   "cell_type": "markdown",
   "metadata": {},
   "source": [
    "## Introduction"
   ]
  },
  {
   "cell_type": "markdown",
   "metadata": {},
   "source": [
    "Pymatgen is a very useful Python package for Materials research. This notebook demonstrates the core functionality of pymatgen, including the core objects representing Elements, Species, Lattices, and Structures. Adapted from the [Materials Virtual Lab](http://matgenb.materialsvirtuallab.org/) collection of Jupyter notebooks.\n",
    "\n",
    "Written using:\n",
    "- pymatgen==2019.3.13\n",
    "\n",
    "By convention, we import pymatgen as mg."
   ]
  },
  {
   "cell_type": "code",
   "execution_count": 1,
   "metadata": {},
   "outputs": [],
   "source": [
    "import pymatgen as mg"
   ]
  },
  {
   "cell_type": "markdown",
   "metadata": {},
   "source": [
    "## Basic Element, Specie and Composition objects"
   ]
  },
  {
   "cell_type": "markdown",
   "metadata": {},
   "source": [
    "Pymatgen contains a set of core classes to represent an Element, Specie and Composition. These objects contains useful properties such as atomic mass, ionic radii, etc. These core classes are loaded by default with pymatgen. \n",
    "\n",
    "### Element\n",
    "An [Element](http://pymatgen.org/pymatgen.core.periodic_table.html?highlight=element#pymatgen.core.periodic_table.Element) can be created as follows:"
   ]
  },
  {
   "cell_type": "code",
   "execution_count": 2,
   "metadata": {},
   "outputs": [
    {
     "name": "stdout",
     "output_type": "stream",
     "text": [
      "Atomic mass of Si is 28.0855 amu\n",
      "Si has a melting point of 1687.0 K\n",
      "Ionic radii for Si: {4: 0.54}\n"
     ]
    }
   ],
   "source": [
    "si = mg.Element(\"Si\")\n",
    "print(\"Atomic mass of Si is {}\".format(si.atomic_mass))\n",
    "print(\"Si has a melting point of {}\".format(si.melting_point))\n",
    "print(\"Ionic radii for Si: {}\".format(si.ionic_radii))"
   ]
  },
  {
   "cell_type": "markdown",
   "metadata": {},
   "source": [
    "You can see that units are printed for atomic masses and ionic radii. Pymatgen comes with a complete system of managing units in pymatgen.core.unit. A Unit is a subclass of float that attaches units and handles conversions. For example,"
   ]
  },
  {
   "cell_type": "code",
   "execution_count": 3,
   "metadata": {},
   "outputs": [
    {
     "name": "stdout",
     "output_type": "stream",
     "text": [
      "Atomic mass of Si in kg: 4.6637069207919995e-26 kg\n"
     ]
    }
   ],
   "source": [
    "print(\"Atomic mass of Si in kg: {}\".format(si.atomic_mass.to(\"kg\")))"
   ]
  },
  {
   "cell_type": "markdown",
   "metadata": {},
   "source": [
    "Please refer to the [Units example](https://github.com/materialsvirtuallab/matgenb/blob/master/notebooks/2013-01-01-Units.ipynb) for more information on units.\n",
    "\n",
    "### Specie\n",
    "[Species](http://pymatgen.org/pymatgen.core.periodic_table.html?highlight=specie#pymatgen.core.periodic_table.Specie) are like Elements, except they have an explicit oxidation state. They can be used wherever Element is used for the most part."
   ]
  },
  {
   "cell_type": "code",
   "execution_count": 4,
   "metadata": {},
   "outputs": [
    {
     "name": "stdout",
     "output_type": "stream",
     "text": [
      "55.845 amu\n",
      "0.92 ang\n"
     ]
    }
   ],
   "source": [
    "fe2 = mg.Specie(\"Fe\", 2)\n",
    "print(fe2.atomic_mass)\n",
    "print(fe2.ionic_radius)"
   ]
  },
  {
   "cell_type": "markdown",
   "metadata": {},
   "source": [
    "An example of how the addition of the oxidation state can be useful is the `get_crystal_field_spin` method, which allows you to find the expected number of unpaired spins based on [Crystal Field Theory](https://en.wikipedia.org/wiki/Crystal_field_theory):"
   ]
  },
  {
   "cell_type": "code",
   "execution_count": 5,
   "metadata": {},
   "outputs": [
    {
     "data": {
      "text/plain": [
       "4"
      ]
     },
     "execution_count": 5,
     "metadata": {},
     "output_type": "execute_result"
    }
   ],
   "source": [
    "fe2.get_crystal_field_spin()"
   ]
  },
  {
   "cell_type": "markdown",
   "metadata": {},
   "source": [
    "---\n",
    "#### Exercise 1\n",
    "\n",
    "Set up a Mn `Specie` with oxidation state +3 in a console tied to this notebook. Try using the `get_crystal_field_spin` and check the result. Using the `Shift+Tab` functionality of JupyterLab, figure out what the standard coordination and field splitting (`spin_config`) are, and try the other field splitting setting.\n",
    "\n",
    "---\n",
    "\n",
    "### Composition\n",
    "\n",
    "A [Composition](http://pymatgen.org/pymatgen.core.composition.html?highlight=composition#pymatgen.core.composition.Composition) is essentially an **immutable** mapping of Elements/Species with amounts, and useful properties like molecular weight, get_atomic_fraction, etc. Note that you can conveniently either use an Element/Specie object or a string as keys (this is a feature)."
   ]
  },
  {
   "cell_type": "code",
   "execution_count": 6,
   "metadata": {},
   "outputs": [
    {
     "name": "stdout",
     "output_type": "stream",
     "text": [
      "Weight of Fe2O3 is 159.6882 amu\n",
      "Amount of Fe in Fe2O3 is 2.0\n",
      "Atomic fraction of Fe is 0.4\n",
      "Weight fraction of Fe is 0.699425505453753 \n"
     ]
    }
   ],
   "source": [
    "comp = mg.Composition(\"Fe2O3\")\n",
    "print(\"Weight of Fe2O3 is {}\".format(comp.weight))\n",
    "print(\"Amount of Fe in Fe2O3 is {}\".format(comp[\"Fe\"]))\n",
    "print(\"Atomic fraction of Fe is {}\".format(comp.get_atomic_fraction(\"Fe\")))\n",
    "print(\"Weight fraction of Fe is {}\".format(comp.get_wt_fraction(\"Fe\")))"
   ]
  },
  {
   "cell_type": "markdown",
   "metadata": {},
   "source": [
    "## Lattice & Structure objects"
   ]
  },
  {
   "cell_type": "markdown",
   "metadata": {},
   "source": [
    "A [Lattice](http://pymatgen.org/pymatgen.core.lattice.html?highlight=lattice#pymatgen.core.lattice.Lattice) represents a Bravais lattice. Convenience static functions are provided for the creation of common lattice types from a minimum number of arguments. "
   ]
  },
  {
   "cell_type": "code",
   "execution_count": 7,
   "metadata": {},
   "outputs": [
    {
     "name": "stdout",
     "output_type": "stream",
     "text": [
      "((4.2, 4.2, 4.2), (90.0, 90.0, 90.0))\n"
     ]
    }
   ],
   "source": [
    "# Creates cubic Lattice with lattice parameter 4.2\n",
    "lattice = mg.Lattice.cubic(4.2)\n",
    "print(lattice.lengths_and_angles)"
   ]
  },
  {
   "cell_type": "markdown",
   "metadata": {},
   "source": [
    "A [Structure](http://pymatgen.org/pymatgen.core.structure.html?highlight=structure#pymatgen.core.structure.Structure) object represents a crystal structure (lattice + basis). A Structure is essentially a list of PeriodicSites with the same Lattice. Let us now create a CsCl structure."
   ]
  },
  {
   "cell_type": "code",
   "execution_count": 8,
   "metadata": {},
   "outputs": [
    {
     "name": "stdout",
     "output_type": "stream",
     "text": [
      "Unit cell vol = 74.08800000000001\n",
      "First site of the structure is [0. 0. 0.] Cs\n"
     ]
    }
   ],
   "source": [
    "structure = mg.Structure(lattice, [\"Cs\", \"Cl\"], [[0, 0, 0], [0.5, 0.5, 0.5]])\n",
    "print(\"Unit cell vol = {}\".format(structure.volume))\n",
    "print(\"First site of the structure is {}\".format(structure[0]))"
   ]
  },
  {
   "cell_type": "markdown",
   "metadata": {},
   "source": [
    "The Structure object contains many useful manipulation functions. Since Structure is essentially a list, it contains a simple pythonic API for manipulation its sites. Some examples are given below. Please note that there is an immutable version of Structure known as IStructure, for the use case where you really need to enforce that the structure does not change. Conversion between these forms of Structure can be performed using from_sites()."
   ]
  },
  {
   "cell_type": "code",
   "execution_count": 9,
   "metadata": {},
   "outputs": [
    {
     "name": "stdout",
     "output_type": "stream",
     "text": [
      "Full Formula (Cs1 Li1)\n",
      "Reduced Formula: CsLi\n",
      "abc   :   4.200000   4.200000   4.200000\n",
      "angles:  90.000000  90.000000  90.000000\n",
      "Sites (2)\n",
      "  #  SP       a    b    c\n",
      "---  ----  ----  ---  ---\n",
      "  0  Cs    0.01  0.5    0\n",
      "  1  Li    0     0      0\n"
     ]
    }
   ],
   "source": [
    "del structure[0] # Remove the first site\n",
    "structure.append(\"Na\", [0,0,0]) # Append a Na atom.\n",
    "structure[-1] = \"Li\" # Change the last added atom to Li.\n",
    "structure[0] = \"Cs\", [0.01, 0.5, 0] # Shift the first atom by 0.01 in fractional coordinates in the x-direction.\n",
    "immutable_structure = mg.IStructure.from_sites(structure) # Create an immutable structure (cannot be modified).\n",
    "print(immutable_structure)"
   ]
  },
  {
   "cell_type": "markdown",
   "metadata": {},
   "source": [
    "---\n",
    "#### Exercise 2\n",
    "\n",
    "In the console, print the `structure` variable, and make a copy of it called `supercell` using the `Structure.copy` method. Then check the docstring of the `make_supercell` method of the `supercell` variable using `Shift+Tab`. Use the method to create a 2x2x2 supercell and then print the `supercell` variable.\n",
    "\n",
    "---"
   ]
  },
  {
   "cell_type": "markdown",
   "metadata": {},
   "source": [
    "## Basic analyses"
   ]
  },
  {
   "cell_type": "markdown",
   "metadata": {},
   "source": [
    "Pymatgen provides many analyses functions for `Structures`. Some common ones are given below."
   ]
  },
  {
   "cell_type": "code",
   "execution_count": 10,
   "metadata": {},
   "outputs": [
    {
     "name": "stdout",
     "output_type": "stream",
     "text": [
      "The spacegroup is Pmm2\n"
     ]
    }
   ],
   "source": [
    "# Determining the symmetry\n",
    "from pymatgen.symmetry.analyzer import SpacegroupAnalyzer\n",
    "finder = SpacegroupAnalyzer(structure)\n",
    "print(\"The spacegroup is {}\".format(finder.get_space_group_symbol()))"
   ]
  },
  {
   "cell_type": "markdown",
   "metadata": {},
   "source": [
    "It also has an extremely powerful structure matching tool."
   ]
  },
  {
   "cell_type": "code",
   "execution_count": 11,
   "metadata": {},
   "outputs": [
    {
     "name": "stdout",
     "output_type": "stream",
     "text": [
      "True\n"
     ]
    }
   ],
   "source": [
    "from pymatgen.analysis.structure_matcher import StructureMatcher\n",
    "# Let's create two structures which are the same topologically, but with different elements, and one lattice is larger.\n",
    "s1 = mg.Structure(lattice, [\"Cs\", \"Cl\"], [[0, 0, 0], [0.5, 0.5, 0.5]])\n",
    "s2 = mg.Structure(mg.Lattice.cubic(5), [\"Rb\", \"F\"], [[0, 0, 0], [0.5, 0.5, 0.5]])\n",
    "m = StructureMatcher()\n",
    "print(m.fit_anonymous(s1, s2)) # Returns a mapping which maps s1 and s2 onto each other. Strict element fitting is also available."
   ]
  },
  {
   "cell_type": "markdown",
   "metadata": {},
   "source": [
    "---\n",
    "#### Exercise 3\n",
    "\n",
    "The `SpacegroupAnalyzer` class has a lot of useful methods. Try initializing a `SpacegroupAnalyzer` object for the `supercell` variable, and then using the `get_conventional_standard_structure`. \n",
    "\n",
    "---"
   ]
  },
  {
   "cell_type": "markdown",
   "metadata": {},
   "source": [
    "## Input/output"
   ]
  },
  {
   "cell_type": "markdown",
   "metadata": {},
   "source": [
    "Pymatgen also provides IO support for various file formats in the pymatgen.io package. A convenient set of read_structure and write_structure functions are also provided which auto-detects several well-known formats. "
   ]
  },
  {
   "cell_type": "code",
   "execution_count": 12,
   "metadata": {},
   "outputs": [
    {
     "name": "stdout",
     "output_type": "stream",
     "text": [
      "# generated using pymatgen\n",
      "data_CsLi\n",
      "_symmetry_space_group_name_H-M   'P 1'\n",
      "_cell_length_a   4.20000000\n",
      "_cell_length_b   4.20000000\n",
      "_cell_length_c   4.20000000\n",
      "_cell_angle_alpha   90.00000000\n",
      "_cell_angle_beta   90.00000000\n",
      "_cell_angle_gamma   90.00000000\n",
      "_symmetry_Int_Tables_number   1\n",
      "_chemical_formula_structural   CsLi\n",
      "_chemical_formula_sum   'Cs1 Li1'\n",
      "_cell_volume   74.08800000\n",
      "_cell_formula_units_Z   1\n",
      "loop_\n",
      " _symmetry_equiv_pos_site_id\n",
      " _symmetry_equiv_pos_as_xyz\n",
      "  1  'x, y, z'\n",
      "loop_\n",
      " _atom_site_type_symbol\n",
      " _atom_site_label\n",
      " _atom_site_symmetry_multiplicity\n",
      " _atom_site_fract_x\n",
      " _atom_site_fract_y\n",
      " _atom_site_fract_z\n",
      " _atom_site_occupancy\n",
      "  Cs  Cs1  1  0.010000  0.500000  0.000000  1\n",
      "  Li  Li2  1  0.000000  0.000000  0.000000  1\n",
      "\n"
     ]
    }
   ],
   "source": [
    "#Convenient IO to various formats. Format is intelligently determined from file name and extension.\n",
    "structure.to(filename=\"CsCl.cif\")\n",
    "\n",
    "#Or if you just supply fmt, you simply get a string.\n",
    "print(structure.to(fmt=\"cif\"))"
   ]
  },
  {
   "cell_type": "code",
   "execution_count": 13,
   "metadata": {},
   "outputs": [
    {
     "data": {
      "text/plain": [
       "Structure Summary\n",
       "Lattice\n",
       "    abc : 4.2 4.2 4.2\n",
       " angles : 90.0 90.0 90.0\n",
       " volume : 74.08800000000001\n",
       "      A : 4.2 0.0 2.571758278209442e-16\n",
       "      B : -2.571758278209442e-16 4.2 2.571758278209442e-16\n",
       "      C : 0.0 0.0 4.2\n",
       "PeriodicSite: Cs (0.0420, 2.1000, 0.0000) [0.0100, 0.5000, 0.0000]\n",
       "PeriodicSite: Li (0.0000, 0.0000, 0.0000) [0.0000, 0.0000, 0.0000]"
      ]
     },
     "execution_count": 13,
     "metadata": {},
     "output_type": "execute_result"
    }
   ],
   "source": [
    "# Reading a structure from a file.\n",
    "mg.Structure.from_file(\"CsCl.cif\")"
   ]
  },
  {
   "cell_type": "markdown",
   "metadata": {},
   "source": [
    "---\n",
    "#### Exercise 4\n",
    "\n",
    "As an extra to this tutorial, we're going to use the `imolecule` package to visualize the structure in a notebook. This requires that you first install the `imolecule` package. In a terminal, this can be done by:\n",
    "\n",
    "```\n",
    "pip install imolecule\n",
    "```\n",
    "\n",
    "The `imolecule` package relies on `openbabel` for translating the various structure formats. The most robust way to install `openbabel` is using a conda install:\n",
    "\n",
    "```\n",
    "conda install -c openbabel openbabel\n",
    "```\n",
    "\n",
    "Now import the `imolecule` package and visualize the CsCl.cif structure using the `imolecule.draw` method. Try writing the `supercell` structure to a different .cif file and visualize that.\n",
    "\n",
    "---"
   ]
  },
  {
   "cell_type": "code",
   "execution_count": null,
   "metadata": {},
   "outputs": [],
   "source": []
  }
 ],
 "metadata": {
  "anaconda-cloud": {},
  "kernelspec": {
   "display_name": "Python 3",
   "language": "python",
   "name": "python3"
  },
  "language_info": {
   "codemirror_mode": {
    "name": "ipython",
    "version": 3
   },
   "file_extension": ".py",
   "mimetype": "text/x-python",
   "name": "python",
   "nbconvert_exporter": "python",
   "pygments_lexer": "ipython3",
   "version": "3.7.2"
  }
 },
 "nbformat": 4,
 "nbformat_minor": 2
}
