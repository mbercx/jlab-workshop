{
 "cells": [
  {
   "cell_type": "markdown",
   "metadata": {},
   "source": [
    "# Wiggle your big trunk\n",
    "\n",
    "[John von Neumann](https://en.wikipedia.org/wiki/John_von_Neumann) once famously said: \n",
    "\n",
    "<blockquote> With four parameters I can fit an elephant, and with five I can make him wiggle his trunk.</blockquote>\n",
    "\n",
    "His quote was thoroughly investigated in the [groudbreaking work](https://publications.mpi-cbg.de/Mayer_2010_4314.pdf) of Mayer et al. As a first exercise, base yourself on their paper to plot the elephant shown in their figure (b)."
   ]
  },
  {
   "cell_type": "code",
   "execution_count": 1,
   "metadata": {},
   "outputs": [],
   "source": [
    "import matplotlib.pyplot as plt\n",
    "import numpy as np\n",
    "\n",
    "# Set up the function for obtaining the x, y coordinates of the elephant drawing:\n",
    "def elephant(time, parameters):\n",
    "    \"\"\"\n",
    "    Return the x and y coordinates of an elephant drawing.\n",
    "    \n",
    "    Args:\n",
    "        time (numpy.ndarray): Array of the time mesh for which the elephant coordinates should be determined.\n",
    "        parameters (List): List of complex parameters\n",
    "        \n",
    "    Returns:\n",
    "        x, y: Coordinates of the elephant drawing.\n",
    "    \n",
    "    \"\"\"\n",
    "    \n",
    "    x = np.zeros(time.shape)\n",
    "    y = np.zeros(time.shape)\n",
    "    \n",
    "    A_x = [0, 0, parameters[2].real, 0, parameters[3].real]\n",
    "    B_x = [parameters[0].real, parameters[1].real, 0, 0, 0]\n",
    "    \n",
    "    A_y = [parameters[3].imag, 0, 0, 0, 0]\n",
    "    B_y = [parameters[0].imag, parameters[1].imag, parameters[2].imag, 0, 0]\n",
    "    \n",
    "    for k, ax, bx, ay, by in zip(range(1, 6), A_x, B_x, A_y, B_y):\n",
    "        y -= ax * np.cos(k * time) + bx * np.sin(k * time)\n",
    "        x += ay * np.cos(k * time) + by * np.sin(k * time)\n",
    "        \n",
    "    return x, y"
   ]
  },
  {
   "cell_type": "code",
   "execution_count": 2,
   "metadata": {},
   "outputs": [
    {
     "data": {
      "image/png": "[encoded data removed]",
      "text/plain": [
       "<Figure size 432x288 with 1 Axes>"
      ]
     },
     "metadata": {
      "needs_background": "light"
     },
     "output_type": "display_data"
    }
   ],
   "source": [
    "# Based on the parameters of the paper of Mayer et al. and the elephant function, plot the elephant with matplotlib\n",
    "parameters = [50-30j, 18+8j, 12-10j, -14-60j]\n",
    "\n",
    "x, y = elephant(np.linspace(0, 2*np.pi, 200), parameters)\n",
    "plt.plot(x, y);"
   ]
  },
  {
   "cell_type": "markdown",
   "metadata": {},
   "source": [
    "---\n",
    "\n",
    "## Wiggling time\n",
    "\n",
    "Of course, now we want to make the elephant's trunk wiggle. To do this, we will write a function that plots the body and trunk of the elephant separately. First, we have to figure out what part of the time range corresponds to the trunk and the body. One way to figure this out interactively is using a `FloatRangeSlider`. Start by setting up a function for plotting the elephant coordinates within a certain time range:"
   ]
  },
  {
   "cell_type": "code",
   "execution_count": 3,
   "metadata": {},
   "outputs": [],
   "source": [
    "def plot_elephant(times, parameters):\n",
    "    \"\"\"\n",
    "    Plot the elephant coordinates over the range defined by times, based on the parameters.\n",
    "    \n",
    "    Args:\n",
    "        time (numpy.ndarray): Array of the time mesh for which the elephant coordinates should be determined.\n",
    "        parameters (List): List of complex parameters\n",
    "    \n",
    "    \"\"\"\n",
    "    \n",
    "    time_range = np.linspace(times[0], times[1], 1000)\n",
    "    x, y = elephant(time_range, parameters)\n",
    "    plt.plot(x, y)"
   ]
  },
  {
   "cell_type": "markdown",
   "metadata": {},
   "source": [
    "Now set up a `FloatRangeSlider` that allows you to explore the effect of drawing the coordinates of the elephant over a certain range."
   ]
  },
  {
   "cell_type": "code",
   "execution_count": 4,
   "metadata": {},
   "outputs": [
    {
     "data": {
      "application/vnd.jupyter.widget-view+json": {
       "model_id": "7e1bc5c9750b426c949cb4cb17837e2a",
       "version_major": 2,
       "version_minor": 0
      },
      "text/plain": [
       "interactive(children=(FloatRangeSlider(value=(0.0, 6.283185307179586), description='times', max=12.56637061435…"
      ]
     },
     "metadata": {},
     "output_type": "display_data"
    }
   ],
   "source": [
    "from ipywidgets import FloatRangeSlider, FloatSlider, interact, fixed\n",
    "time_slider = FloatRangeSlider(value=(0, 2*np.pi), min=0, max=4*np.pi, step=0.01)\n",
    "interact(plot_elephant, times=time_slider, parameters=fixed(parameters), wiggle_parameter=3.0);"
   ]
  },
  {
   "cell_type": "markdown",
   "metadata": {},
   "source": [
    "Base yourself on the interactive tool you've just designed to figure out what time ranges you have to consider to plot the body and the trunk. Finally, set up a function that plots the body and trunk separately, and changes the position of the trunk a little based on the wiggle parameter. Once the function is set up, you can use the interact tool to plot the elephant and allow for a range of values for the wiggle parameter to wiggle the trunk."
   ]
  },
  {
   "cell_type": "code",
   "execution_count": 5,
   "metadata": {},
   "outputs": [],
   "source": [
    "def wiggle_trunk(parameters, wiggle_parameter):\n",
    "\n",
    "    # Draw the body of the elephant\n",
    "    x, y = elephant(np.linspace(4.69, 8.89, 1000), parameters)\n",
    "    plt.plot(x, y)\n",
    "    \n",
    "    # Obtain the trunk coordinates\n",
    "    x, y = elephant(np.linspace(8.89 - 2 * np.pi, 4.69, 1000), parameters)\n",
    "    \n",
    "    # Adjust the position of the trunk a little\n",
    "    for ii in range(len(y)-1):\n",
    "        y[ii] -= np.sin(((x[ii]-x[0]) * np.pi / len(y))) * wiggle_parameter\n",
    "    \n",
    "    plt.plot(x, y)"
   ]
  },
  {
   "cell_type": "code",
   "execution_count": 6,
   "metadata": {},
   "outputs": [
    {
     "data": {
      "application/vnd.jupyter.widget-view+json": {
       "model_id": "bcca7e9965fd40c893c50dd7e0225e94",
       "version_major": 2,
       "version_minor": 0
      },
      "text/plain": [
       "interactive(children=(FloatSlider(value=0.0, description='wiggle_parameter', max=150.0, min=-150.0), Output())…"
      ]
     },
     "metadata": {},
     "output_type": "display_data"
    }
   ],
   "source": [
    "interact(wiggle_trunk, parameters=fixed(parameters), wiggle_parameter=FloatSlider(value=0, min=-150, max=150));"
   ]
  },
  {
   "cell_type": "code",
   "execution_count": null,
   "metadata": {},
   "outputs": [],
   "source": []
  }
 ],
 "metadata": {
  "kernelspec": {
   "display_name": "Python 3",
   "language": "python",
   "name": "python3"
  },
  "language_info": {
   "codemirror_mode": {
    "name": "ipython",
    "version": 3
   },
   "file_extension": ".py",
   "mimetype": "text/x-python",
   "name": "python",
   "nbconvert_exporter": "python",
   "pygments_lexer": "ipython3",
   "version": "3.7.2"
  }
 },
 "nbformat": 4,
 "nbformat_minor": 2
}
