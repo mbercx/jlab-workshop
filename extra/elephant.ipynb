{
 "cells": [
  {
   "cell_type": "markdown",
   "metadata": {},
   "source": [
    "# Wiggle your big trunk\n",
    "\n",
    "[John von Neumann](https://en.wikipedia.org/wiki/John_von_Neumann) once famously said: \n",
    "\n",
    "<blockquote> With four parameters I can fit an elephant, and with five I can make him wiggle his trunk.</blockquote>\n",
    "\n",
    "His quote was thoroughly investigated in the [groudbreaking work of Mayer et al](https://publications.mpi-cbg.de/Mayer_2010_4314.pdf). As a first exercise, base yourself on their paper to plot the elephant shown in their figure (b)."
   ]
  },
  {
   "cell_type": "code",
   "execution_count": 8,
   "metadata": {},
   "outputs": [],
   "source": [
    "import matplotlib.pyplot as plt\n",
    "import numpy as np\n",
    "\n",
    "# Set up the function for obtaining the x, y coordinates of the elephant drawing:\n",
    "def elephant(angles, parameters):\n",
    "    \"\"\"\n",
    "    Return the x and y coordinates of an elephant drawing.\n",
    "    \n",
    "    Args:\n",
    "        angles (numpy.ndarray): Array of the angle mesh for which the elephant coordinates should be determined.\n",
    "        parameters (List): List of four complex parameters\n",
    "        \n",
    "    Returns:\n",
    "        x, y: Coordinates of the elephant drawing.\n",
    "    \n",
    "    \"\"\"\n",
    "    \n",
    "    x = np.zeros(angles.shape)\n",
    "    y = np.zeros(angles.shape)\n",
    "    \n",
    "    A_x = [0, 0, parameters[2].real, 0, parameters[3].real]\n",
    "    B_x = [parameters[0].real, parameters[1].real, 0, 0, 0]\n",
    "    \n",
    "    A_y = [parameters[3].imag, 0, 0, 0, 0]\n",
    "    B_y = [parameters[0].imag, parameters[1].imag, parameters[2].imag, 0, 0]\n",
    "    \n",
    "    for k, ax, bx, ay, by in zip(range(1, 6), A_x, B_x, A_y, B_y):\n",
    "        y -= ax * np.cos(k * angles) + bx * np.sin(k * angles)\n",
    "        x += ay * np.cos(k * angles) + by * np.sin(k * angles)\n",
    "        \n",
    "    return x, y"
   ]
  },
  {
   "cell_type": "code",
   "execution_count": 9,
   "metadata": {},
   "outputs": [],
   "source": [
    "parameters = [50-30j, 18+8j, 12-10j, -14-60j]\n",
    "# Based on the parameters of the paper of Mayer et al. and the elephant function, plot the elephant with matplotlib"
   ]
  },
  {
   "cell_type": "markdown",
   "metadata": {},
   "source": [
    "---\n",
    "\n",
    "## Wiggling time\n",
    "\n",
    "Of course, now we want to make the elephant's trunk wiggle. To do this, we will write a function that plots the body and trunk of the elephant separately. First, we have to figure out what part of the angle range corresponds to the trunk and the body. One way to figure this out interactively is using a `FloatRangeSlider`. Start by setting up a function for plotting the elephant coordinates within a certain angle range:"
   ]
  },
  {
   "cell_type": "code",
   "execution_count": 10,
   "metadata": {},
   "outputs": [],
   "source": [
    "def plot_elephant(angle_range, parameters):\n",
    "    \"\"\"\n",
    "    Plot the elephant coordinates over the range defined by times, based on the parameters.\n",
    "    \n",
    "    Args:\n",
    "        angle_range (tuple): Tuple of the minimum and maximum angles for which the elephant coordinates should be determined.\n",
    "        parameters (List): List of complex parameters\n",
    "    \n",
    "    \"\"\"\n",
    "    raise NotImplementedError # Be sure to remove this when you've implemented your code"
   ]
  },
  {
   "cell_type": "markdown",
   "metadata": {},
   "source": [
    "Now set up a `FloatRangeSlider` that allows you to explore the effect of drawing the coordinates of the elephant over a certain range."
   ]
  },
  {
   "cell_type": "code",
   "execution_count": 11,
   "metadata": {},
   "outputs": [],
   "source": [
    "# Type your code here"
   ]
  },
  {
   "cell_type": "markdown",
   "metadata": {},
   "source": [
    "Base yourself on the interactive tool you've just designed to figure out what angle ranges you have to consider to plot the body and the trunk. Finally, set up a function that plots the body and trunk separately, and changes the position of the trunk a little based on the wiggle parameter. Once the function is set up, you can use the interact tool to plot the elephant and allow for a range of values for the wiggle parameter to wiggle the trunk."
   ]
  },
  {
   "cell_type": "code",
   "execution_count": 12,
   "metadata": {},
   "outputs": [],
   "source": [
    "def wiggle_trunk(parameters, wiggle_parameter):\n",
    "    \"\"\"\n",
    "    Plot the elephant coordinates over the range defined by times, based on the parameters.\n",
    "    \n",
    "    Args:\n",
    "        angle_range (tuple): Tuple of the minimum and maximum angles for which the elephant coordinates should be determined.\n",
    "        parameters (List): List of complex parameters\n",
    "    \n",
    "    \"\"\"\n",
    "    raise NotImplementedError # Be sure to remove this when you've implemented your code\n",
    "\n",
    "    # Draw the body of the elephant\n",
    "\n",
    "    # Obtain the trunk x,y coordinates\n",
    "\n",
    "    # Adjust the position of the trunk a little\n",
    "\n",
    "    # Plot the wiggled trunk"
   ]
  },
  {
   "cell_type": "code",
   "execution_count": 13,
   "metadata": {},
   "outputs": [],
   "source": [
    "# Use the interact function in combination with the wiggle_trunk function and a suitable widget to let the trunk wiggling begin"
   ]
  },
  {
   "cell_type": "code",
   "execution_count": null,
   "metadata": {},
   "outputs": [],
   "source": []
  }
 ],
 "metadata": {
  "kernelspec": {
   "display_name": "Python 3",
   "language": "python",
   "name": "python3"
  },
  "language_info": {
   "codemirror_mode": {
    "name": "ipython",
    "version": 3
   },
   "file_extension": ".py",
   "mimetype": "text/x-python",
   "name": "python",
   "nbconvert_exporter": "python",
   "pygments_lexer": "ipython3",
   "version": "3.7.2"
  }
 },
 "nbformat": 4,
 "nbformat_minor": 2
}
