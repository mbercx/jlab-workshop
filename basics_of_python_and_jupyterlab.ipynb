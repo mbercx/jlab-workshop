{
 "cells": [
  {
   "cell_type": "markdown",
   "metadata": {},
   "source": [
    "# Basics of Python and JupyterLab"
   ]
  },
  {
   "cell_type": "markdown",
   "metadata": {},
   "source": [
    "Lines with `In [ ]:` are code cells, which means the code in the line can be executed. This is done by clicking the line, and pressing Shift + Enter. This also moves the selection to the next line."
   ]
  },
  {
   "cell_type": "code",
   "execution_count": 19,
   "metadata": {},
   "outputs": [],
   "source": [
    "import time\n",
    "time.sleep(1)"
   ]
  },
  {
   "cell_type": "markdown",
   "metadata": {},
   "source": [
    "The original `In [ ]:` changes firstly to `In [*]:` which means the line is being executed. And when the line has finished executed, it changes to `In [1]:`. The number refers to how many lines were executed before this one. Note this is not the line number in the notebook. It is possible to execute lines in any order.\n",
    "\n",
    "It is also possible to navigate to different lines by using the up or down arrow keys.\n",
    "\n",
    "There are also two different modes: edit and command.\n",
    "\n",
    "* In command mode you can copy, delete or change things about the cells. Press `ESC` to switch to command mode.\n",
    "* Edit is when you can edit the contents of the cells. Press `ENTER` to switch to edit mode.\n",
    "\n",
    "When in edit mode, the cursor will be blinking inside the active cell. Typically, you want to be in command mode unless you're changing the content of a cell."
   ]
  },
  {
   "cell_type": "code",
   "execution_count": null,
   "metadata": {},
   "outputs": [],
   "source": []
  },
  {
   "cell_type": "markdown",
   "metadata": {},
   "source": [
    "# Modules and functions"
   ]
  },
  {
   "cell_type": "markdown",
   "metadata": {},
   "source": [
    "Python is a powerful, high-level programming language. Meaning it is pretty easy to learn, but can also be used to write very complex software.\n",
    "\n",
    "Much of Python's functionality resides in modules, or libraries, which can come from a variety of sources. A basic building block of modules are functions, which typically do one specific thing. So for the code cell above, the `import time` line loads a module called `time`. This module contains functions for getting the current time and date, but also the `sleep` function. Functions are run by adding brackets `()` after them.\n",
    "\n",
    "To see what the this function does, we can have a look at the docstring, which most Python functions have. These are accessed by placing a question mark after any function or object. For example:"
   ]
  },
  {
   "cell_type": "code",
   "execution_count": 20,
   "metadata": {},
   "outputs": [
    {
     "data": {
      "text/plain": [
       "\u001b[0;31mDocstring:\u001b[0m\n",
       "sleep(seconds)\n",
       "\n",
       "Delay execution for a given number of seconds.  The argument may be\n",
       "a floating point number for subsecond precision.\n",
       "\u001b[0;31mType:\u001b[0m      builtin_function_or_method\n"
      ]
     },
     "metadata": {},
     "output_type": "display_data"
    }
   ],
   "source": [
    "time.sleep?"
   ]
  },
  {
   "cell_type": "markdown",
   "metadata": {},
   "source": [
    "These docstrings (usually) contain a lot of useful information on how to use these functions, and is very useful as a quick lookup."
   ]
  },
  {
   "cell_type": "markdown",
   "metadata": {},
   "source": [
    "These can also be seen by Shift+Tab when the curser is in a function parenthesis."
   ]
  },
  {
   "cell_type": "code",
   "execution_count": 21,
   "metadata": {},
   "outputs": [],
   "source": [
    "time.sleep(1)"
   ]
  },
  {
   "cell_type": "markdown",
   "metadata": {},
   "source": [
    "## Tab completion"
   ]
  },
  {
   "cell_type": "markdown",
   "metadata": {},
   "source": [
    "A very useful feature is tab completion. Select the next line, go to the end of `time.s`, and press tab. This will bring up all the functions which start with `s`. Select `sleep`, write `time.sleep(1)` and execute the line using Ctrl + Enter"
   ]
  },
  {
   "cell_type": "code",
   "execution_count": null,
   "metadata": {},
   "outputs": [],
   "source": [
    "time.s"
   ]
  },
  {
   "cell_type": "markdown",
   "metadata": {},
   "source": [
    "## Saving\n",
    "The file will be saved periodically and can be saved manually from the toolbar.\n",
    "\n",
    "It can also be saved as an html file or python source through the File > Download as menu entry."
   ]
  },
  {
   "cell_type": "markdown",
   "metadata": {},
   "source": [
    "# Scientific Python"
   ]
  },
  {
   "cell_type": "markdown",
   "metadata": {},
   "source": [
    "Scientific python is a group of Python modules, for mathematics, science and engineering. One example is IPython (Interactive Python), which powers the code cells in JupyterLab.\n",
    "\n",
    "Arguable the most important is NumPy, which is a library for handling multidimensional arrays:"
   ]
  },
  {
   "cell_type": "code",
   "execution_count": 22,
   "metadata": {},
   "outputs": [],
   "source": [
    "import numpy as np"
   ]
  },
  {
   "cell_type": "markdown",
   "metadata": {},
   "source": [
    "Now have a look at the docstring (Shift + Tab)"
   ]
  },
  {
   "cell_type": "code",
   "execution_count": null,
   "metadata": {},
   "outputs": [],
   "source": [
    "np."
   ]
  },
  {
   "cell_type": "markdown",
   "metadata": {},
   "source": [
    "Just as the `time` module, NumPy also contains functions. To make a 1 dimensional array of zeros:"
   ]
  },
  {
   "cell_type": "code",
   "execution_count": 23,
   "metadata": {},
   "outputs": [
    {
     "data": {
      "text/plain": [
       "array([0., 0., 0., 0., 0., 0., 0., 0., 0., 0.])"
      ]
     },
     "execution_count": 23,
     "metadata": {},
     "output_type": "execute_result"
    }
   ],
   "source": [
    "np.zeros(10)"
   ]
  },
  {
   "cell_type": "markdown",
   "metadata": {},
   "source": [
    "To save this array for use later, use `data =`"
   ]
  },
  {
   "cell_type": "code",
   "execution_count": 24,
   "metadata": {},
   "outputs": [],
   "source": [
    "data = np.zeros(10)"
   ]
  },
  {
   "cell_type": "markdown",
   "metadata": {},
   "source": [
    "To make a 2-dimensional array"
   ]
  },
  {
   "cell_type": "code",
   "execution_count": 25,
   "metadata": {},
   "outputs": [],
   "source": [
    "image = np.zeros(shape=(10, 10))"
   ]
  },
  {
   "cell_type": "code",
   "execution_count": 26,
   "metadata": {},
   "outputs": [
    {
     "data": {
      "text/plain": [
       "array([[0., 0., 0., 0., 0., 0., 0., 0., 0., 0.],\n",
       "       [0., 0., 0., 0., 0., 0., 0., 0., 0., 0.],\n",
       "       [0., 0., 0., 0., 0., 0., 0., 0., 0., 0.],\n",
       "       [0., 0., 0., 0., 0., 0., 0., 0., 0., 0.],\n",
       "       [0., 0., 0., 0., 0., 0., 0., 0., 0., 0.],\n",
       "       [0., 0., 0., 0., 0., 0., 0., 0., 0., 0.],\n",
       "       [0., 0., 0., 0., 0., 0., 0., 0., 0., 0.],\n",
       "       [0., 0., 0., 0., 0., 0., 0., 0., 0., 0.],\n",
       "       [0., 0., 0., 0., 0., 0., 0., 0., 0., 0.],\n",
       "       [0., 0., 0., 0., 0., 0., 0., 0., 0., 0.]])"
      ]
     },
     "execution_count": 26,
     "metadata": {},
     "output_type": "execute_result"
    }
   ],
   "source": [
    "image"
   ]
  },
  {
   "cell_type": "markdown",
   "metadata": {},
   "source": [
    "Now, make a 2-dimensional 10x5 array of random numbers (`np.random.random`), and save it as the `image` variable"
   ]
  },
  {
   "cell_type": "code",
   "execution_count": 27,
   "metadata": {},
   "outputs": [
    {
     "ename": "SyntaxError",
     "evalue": "invalid syntax (<ipython-input-27-5a472b19e6f0>, line 1)",
     "output_type": "error",
     "traceback": [
      "\u001b[0;36m  File \u001b[0;32m\"<ipython-input-27-5a472b19e6f0>\"\u001b[0;36m, line \u001b[0;32m1\u001b[0m\n\u001b[0;31m    image =\u001b[0m\n\u001b[0m            ^\u001b[0m\n\u001b[0;31mSyntaxError\u001b[0m\u001b[0;31m:\u001b[0m invalid syntax\n"
     ]
    }
   ],
   "source": [
    "image = "
   ]
  },
  {
   "cell_type": "markdown",
   "metadata": {},
   "source": [
    "# Plotting with matplotlib"
   ]
  },
  {
   "cell_type": "markdown",
   "metadata": {},
   "source": [
    "An important aspect of scientific computing is visualizing data.\n",
    "\n",
    "`matplotlib` such a plotting library"
   ]
  },
  {
   "cell_type": "code",
   "execution_count": 28,
   "metadata": {},
   "outputs": [],
   "source": [
    "import matplotlib.pyplot as plt"
   ]
  },
  {
   "cell_type": "markdown",
   "metadata": {},
   "source": [
    "1-dimensional data can be plotted using the `plot` function"
   ]
  },
  {
   "cell_type": "code",
   "execution_count": 29,
   "metadata": {},
   "outputs": [
    {
     "data": {
      "text/plain": [
       "[<matplotlib.lines.Line2D at 0x7f86c80447b8>]"
      ]
     },
     "execution_count": 29,
     "metadata": {},
     "output_type": "execute_result"
    },
    {
     "data": {
      "image/png": "[encoded data removed]",
      "text/plain": [
       "<Figure size 432x288 with 1 Axes>"
      ]
     },
     "metadata": {
      "needs_background": "light"
     },
     "output_type": "display_data"
    }
   ],
   "source": [
    "plt.plot(np.arange(10))"
   ]
  },
  {
   "cell_type": "markdown",
   "metadata": {},
   "source": [
    "Try using the NumPy `arange` function to generate 1-dimensional data, and plot it using `plt.scatter`. Note that `scatter` requires both the `x` and `y` positions. Check `scatter`'s docstring for more info on this."
   ]
  },
  {
   "cell_type": "code",
   "execution_count": 30,
   "metadata": {},
   "outputs": [
    {
     "data": {
      "text/plain": [
       "<matplotlib.collections.PathCollection at 0x7f86c81b8a20>"
      ]
     },
     "execution_count": 30,
     "metadata": {},
     "output_type": "execute_result"
    },
    {
     "data": {
      "image/png": "[encoded data removed]",
      "text/plain": [
       "<Figure size 432x288 with 1 Axes>"
      ]
     },
     "metadata": {
      "needs_background": "light"
     },
     "output_type": "display_data"
    }
   ],
   "source": [
    "plt.scatter(range(10), range(10))"
   ]
  },
  {
   "cell_type": "markdown",
   "metadata": {},
   "source": [
    "To plot 2-dimensional data, use `plt.imshow`"
   ]
  },
  {
   "cell_type": "code",
   "execution_count": 31,
   "metadata": {},
   "outputs": [
    {
     "data": {
      "text/plain": [
       "<matplotlib.image.AxesImage at 0x7f86c8258860>"
      ]
     },
     "execution_count": 31,
     "metadata": {},
     "output_type": "execute_result"
    },
    {
     "data": {
      "image/png": "[encoded data removed]",
      "text/plain": [
       "<Figure size 432x288 with 1 Axes>"
      ]
     },
     "metadata": {
      "needs_background": "light"
     },
     "output_type": "display_data"
    }
   ],
   "source": [
    "plt.imshow(np.random.random((10, 10)))"
   ]
  },
  {
   "cell_type": "markdown",
   "metadata": {},
   "source": [
    "Matplotlib is highly customizable, and can make a wide range of figures. The following example shows some possibilites, where we also utilize some of the functions contained in `mpl_toolkits`."
   ]
  },
  {
   "cell_type": "code",
   "execution_count": 18,
   "metadata": {},
   "outputs": [
    {
     "data": {
      "image/png": "[encoded data removed]",
      "text/plain": [
       "<Figure size 360x360 with 1 Axes>"
      ]
     },
     "metadata": {
      "needs_background": "light"
     },
     "output_type": "display_data"
    }
   ],
   "source": [
    "from mpl_toolkits.axes_grid1.anchored_artists import AnchoredDirectionArrows, AnchoredSizeBar\n",
    "fig, ax = plt.subplots(figsize=(5, 5))\n",
    "ax.imshow(np.random.random((100, 100)), cmap='viridis')\n",
    "direction_arrows = AnchoredDirectionArrows(transform=ax.transData, label_x='x', label_y='y', length=20)\n",
    "ax.add_artist(direction_arrows)\n",
    "scalebar = AnchoredSizeBar(transform=ax.transData, size=20, label='20 nm', loc=4, frameon=False, color='white')\n",
    "ax.add_artist(scalebar)\n",
    "fig.savefig(\"test_figure.png\")"
   ]
  },
  {
   "cell_type": "markdown",
   "metadata": {},
   "source": [
    "The last line saved a file containing the image, which can be opened by double-clicking `test_figure.png` in the file browser to the left.\n",
    "\n",
    "Dragging the tab to the right side of the browser puts the image and the notebook side by side."
   ]
  },
  {
   "cell_type": "markdown",
   "metadata": {},
   "source": [
    "# Useful JupyterLab features"
   ]
  },
  {
   "cell_type": "markdown",
   "metadata": {},
   "source": [
    "Sometimes, interrupting a function is necessary. Run the code cell below, which will take 10 minutes to complete. While the cell is executing, the line indicator looks like `[*]`"
   ]
  },
  {
   "cell_type": "code",
   "execution_count": 32,
   "metadata": {},
   "outputs": [
    {
     "ename": "KeyboardInterrupt",
     "evalue": "",
     "output_type": "error",
     "traceback": [
      "\u001b[0;31m---------------------------------------------------------------------------\u001b[0m",
      "\u001b[0;31mKeyboardInterrupt\u001b[0m                         Traceback (most recent call last)",
      "\u001b[0;32m<ipython-input-32-3ac0ac3fd911>\u001b[0m in \u001b[0;36m<module>\u001b[0;34m()\u001b[0m\n\u001b[0;32m----> 1\u001b[0;31m \u001b[0mtime\u001b[0m\u001b[0;34m.\u001b[0m\u001b[0msleep\u001b[0m\u001b[0;34m(\u001b[0m\u001b[0;36m600\u001b[0m\u001b[0;34m)\u001b[0m\u001b[0;34m\u001b[0m\u001b[0;34m\u001b[0m\u001b[0m\n\u001b[0m",
      "\u001b[0;31mKeyboardInterrupt\u001b[0m: "
     ]
    }
   ],
   "source": [
    "time.sleep(600)"
   ]
  },
  {
   "cell_type": "markdown",
   "metadata": {},
   "source": [
    "While the code cell is running it is possible to interact with the Jupyter Notebook, but it is not possible to execute code cells. To interrupt the currently running cell, go to the `Kernel` menu, and select `Interrupt Kernel`. Alternatively, the \"Stop\" button in the Notebook can also be clicked to interrupt."
   ]
  },
  {
   "cell_type": "markdown",
   "metadata": {},
   "source": [
    "Sometimes it is useful to reset the notebook, by restarting the kernel. This clears all the imports and variables. `Kernel`, then `Restart kernel...`. Alternatively the `Restart Kernel` button can be click in the Notebook."
   ]
  },
  {
   "cell_type": "markdown",
   "metadata": {},
   "source": [
    "### Copying cell text"
   ]
  },
  {
   "cell_type": "markdown",
   "metadata": {},
   "source": [
    "JupyterLab replaces the default right click functionality, which means you can't use the mouse to select and copy text.\n",
    "\n",
    "Use `shift + right click` to get the browser based one, so you can select and copy text directly."
   ]
  },
  {
   "cell_type": "markdown",
   "metadata": {},
   "source": [
    "### Keyboard shortcuts"
   ]
  },
  {
   "cell_type": "markdown",
   "metadata": {},
   "source": [
    "JupyterLab has many different keyboard shortcuts, to make working with the Notebooks more efficient. Note, for these to work you need to be in command mode\n",
    "\n",
    "* `A` to add a cell above the current one\n",
    "* `B` to add a cell below the current one\n",
    "* `DD` to delete the currently selected cell\n",
    "* `X` to cut a cell\n",
    "* `V` to paste a copied or cut cell\n",
    "\n",
    "The full list can be found in the JupyterLab menu"
   ]
  }
 ],
 "metadata": {
  "kernelspec": {
   "display_name": "development_env",
   "language": "python",
   "name": "development_env"
  },
  "language_info": {
   "codemirror_mode": {
    "name": "ipython",
    "version": 3
   },
   "file_extension": ".py",
   "mimetype": "text/x-python",
   "name": "python",
   "nbconvert_exporter": "python",
   "pygments_lexer": "ipython3",
   "version": "3.7.2"
  }
 },
 "nbformat": 4,
 "nbformat_minor": 2
}
